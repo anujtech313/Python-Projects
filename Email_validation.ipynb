{
  "nbformat": 4,
  "nbformat_minor": 0,
  "metadata": {
    "colab": {
      "provenance": [],
      "authorship_tag": "ABX9TyOJKm7ohB6fsc3VhNQC2EDL",
      "include_colab_link": true
    },
    "kernelspec": {
      "name": "python3",
      "display_name": "Python 3"
    },
    "language_info": {
      "name": "python"
    }
  },
  "cells": [
    {
      "cell_type": "markdown",
      "metadata": {
        "id": "view-in-github",
        "colab_type": "text"
      },
      "source": [
        "<a href=\"https://colab.research.google.com/github/anujtech313/Python-Projects/blob/main/Email_validation.ipynb\" target=\"_parent\"><img src=\"https://colab.research.google.com/assets/colab-badge.svg\" alt=\"Open In Colab\"/></a>"
      ]
    },
    {
      "cell_type": "code",
      "execution_count": 1,
      "metadata": {
        "colab": {
          "base_uri": "https://localhost:8080/"
        },
        "id": "r8WzrwWqhX3h",
        "outputId": "8d37f802-ee85-4ae4-c003-fe72e96fb5d3"
      },
      "outputs": [
        {
          "output_type": "stream",
          "name": "stdout",
          "text": [
            "Enter your email :anuj.123427@gmail.com\n",
            "right email\n"
          ]
        }
      ],
      "source": [
        "email=input(\"Enter your email :\")\n",
        "k,j,d=0,0,0\n",
        "if len(email)>=6:\n",
        "    if email[0].isalpha():\n",
        "        if(\"@\" in email) and (email.count(\"@\")==1):\n",
        "            if (email[-4]==\".\") ^ (email[-3] ==\".\"):\n",
        "                for i in email:\n",
        "                    if i ==i.isspace():\n",
        "                        k=1\n",
        "                    elif i.isalpha():\n",
        "                        if i == i.upper():\n",
        "                            j=1\n",
        "                    elif i.isdigit():\n",
        "                        continue\n",
        "                    elif i ==\"_\" or i==\".\" or i==\"@\":\n",
        "                        continue\n",
        "\n",
        "\n",
        "                if k==1 or j==1 or d==1:\n",
        "                    print(\"wrong email 5\")\n",
        "                else:\n",
        "                    print(\"right email\")\n",
        "\n",
        "            else:\n",
        "                print(\"Wrong Email 4\")\n",
        "        else:\n",
        "            print(\"Wrong email 3\")\n",
        "    else:\n",
        "        print(' wrong Email 2')\n",
        "\n",
        "else:\n",
        "    print(\" Wrong Email 1 \")"
      ]
    }
  ]
}