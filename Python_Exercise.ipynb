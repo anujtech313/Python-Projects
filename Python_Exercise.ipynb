{
  "nbformat": 4,
  "nbformat_minor": 0,
  "metadata": {
    "colab": {
      "provenance": [],
      "authorship_tag": "ABX9TyPqjcQ8b4REdV7TFIRWIkPo",
      "include_colab_link": true
    },
    "kernelspec": {
      "name": "python3",
      "display_name": "Python 3"
    },
    "language_info": {
      "name": "python"
    }
  },
  "cells": [
    {
      "cell_type": "markdown",
      "metadata": {
        "id": "view-in-github",
        "colab_type": "text"
      },
      "source": [
        "<a href=\"https://colab.research.google.com/github/anujtech313/Python-Projects/blob/main/Python_Exercise.ipynb\" target=\"_parent\"><img src=\"https://colab.research.google.com/assets/colab-badge.svg\" alt=\"Open In Colab\"/></a>"
      ]
    },
    {
      "cell_type": "code",
      "execution_count": 5,
      "metadata": {
        "colab": {
          "base_uri": "https://localhost:8080/"
        },
        "id": "KF7II_VcWL-m",
        "outputId": "900f24fd-bc63-4eb1-e6c1-fef54f82c783"
      },
      "outputs": [
        {
          "output_type": "stream",
          "name": "stdout",
          "text": [
            "Lets talk about my name Anuj Sharma.\n",
            "My age is 25 years.\n",
            "My height is 60 cm\n",
            "Colour of my eyes is browm\n",
            "If I add 25 and 60, I get a total of 155\n"
          ]
        }
      ],
      "source": [
        "#Exercise 1\n",
        "#Write a basic program\n",
        "my_name = 'Anuj Sharma'\n",
        "my_age = 25\n",
        "my_height = 60   #inch\n",
        "my_eyes ='browm'\n",
        "my_teeth = 'white'\n",
        "my_weight = 70  #kg\n",
        "\n",
        "print(f\"Lets talk about my name {my_name}.\")\n",
        "print(f\"My age is {my_age} years.\")\n",
        "print(f\"My height is {my_height} cm\")\n",
        "print(f\"Colour of my eyes is {my_eyes}\")\n",
        "\n",
        "total = my_age + my_height + my_weight\n",
        "print(f\"If I add {my_age} and {my_height}, I get a total of {total}\")"
      ]
    },
    {
      "cell_type": "code",
      "source": [
        "#Exercise 2\n",
        "#Write a basic program to convert kg to lbs and inches to cm \n",
        "name = 'Anuj Sharma'\n",
        "age = 25\n",
        "height = 60  #inch\n",
        "eyes = 'brown'\n",
        "teeth = 'white'\n",
        "weight = 70   #kg\n",
        "height1 = height * round(2.54) \n",
        "weight1 = weight * round(2.205)\n",
        "\n",
        "print(f\"My name is {name}\")\n",
        "print(f\"My age is {age} years\")\n",
        "print(f\"My height is {height}inches and in centimeters {height1}cm \")\n",
        "print(f\"My weight is {weight}kg and in pounds it is {weight1}lbs\")\n",
        "\n",
        "total = height1 + weight1\n",
        "print(f\"When I add {height1} and {weight1}, I get a total of {total}\")"
      ],
      "metadata": {
        "colab": {
          "base_uri": "https://localhost:8080/"
        },
        "id": "ib_r89DQgH2a",
        "outputId": "67ff9ec9-d841-4d86-84ea-4ce31e212e10"
      },
      "execution_count": 8,
      "outputs": [
        {
          "output_type": "stream",
          "name": "stdout",
          "text": [
            "My name is Anuj Sharma\n",
            "My age is 25 years\n",
            "My height is 60inches and in centimeters 180cm \n",
            "My weight is 70kg and in pounds it is 140lbs\n",
            "When I add 180 and 140, I get a total of 320\n"
          ]
        }
      ]
    },
    {
      "cell_type": "code",
      "source": [
        "# Exercise 3\n",
        "# Another program\n",
        "types_of_people = 10                  # No. of people\n",
        "x= f\"There are {types_of_people} types of people\"  \n",
        "\n",
        "binary = \"binary\"         \n",
        "do_not = \"don't\"\n",
        "y = f\"Those who know {binary} and those who {do_not}\"\n",
        "print(x)\n",
        "print(y)\n",
        "\n",
        "print(f\"I said : {x}\")\n",
        "print(f\"I also said: '{y}'\")\n",
        "\n",
        "hilarious = False\n",
        "joke_evaluation = \"Isn't that joke so funny?! {}\"\n",
        "\n",
        "print(joke_evaluation.format(hilarious))  #.format is a python function\n",
        "\n",
        "w = \"This is the left side of...\"\n",
        "e = \"a string with a right side.\"\n",
        "\n",
        "print(w + e)  # Strings concatenate and do not perform mathematical operation\n"
      ],
      "metadata": {
        "colab": {
          "base_uri": "https://localhost:8080/"
        },
        "id": "pOHpddR-ih35",
        "outputId": "dd6a3b28-df56-44c2-82d2-c191f3a35a2d"
      },
      "execution_count": 10,
      "outputs": [
        {
          "output_type": "stream",
          "name": "stdout",
          "text": [
            "There are 10 types of people\n",
            "Those who know binary and those who don't\n",
            "I said : There are 10 types of people\n",
            "I also said: 'Those who know binary and those who don't'\n",
            "Isn't that joke so funny?! False\n",
            "This is the left side of...a string with a right side.\n"
          ]
        }
      ]
    },
    {
      "cell_type": "code",
      "source": [
        "Exercise 4\n",
        "print(\"Mary had a little lamb\")  # sTATEMENT IN STRING\n",
        "print(\"Its fleece was white as {}\".format('snow')) #string using .format as to replace{} with a  string\n",
        "print(\"And everywhere that mary went.\")\n",
        "print(\".\" * 12) # multiplyiing sting \".\" 12 times\n",
        "\n",
        "end1 = \"a\"\n",
        "end2 = \"b\"\n",
        "end3= \"c\"\n",
        "end4 = \"d\"\n",
        "end5 = \"e\"\n",
        "end6 = \"f\"\n",
        "end7 = \"g\"\n",
        "end8 = \"i\"\n",
        "end9 = \"k\"\n",
        "end10 = \"L\"\n",
        "\n",
        "print(end1 + end2 + end3 + end4 + end5 +end6, end = '')\n",
        "print(end7 + end8 + end9 + end10 )"
      ],
      "metadata": {
        "colab": {
          "base_uri": "https://localhost:8080/"
        },
        "id": "Q6RZ-J0ZwKrJ",
        "outputId": "ba3144bc-d935-4d2c-bf2e-234fa551a6ff"
      },
      "execution_count": 17,
      "outputs": [
        {
          "output_type": "stream",
          "name": "stdout",
          "text": [
            "Mary had a little lamb\n",
            "Its fleece was white as snow\n",
            "And everywhere that mary went.\n",
            "............\n",
            "abcdefgikL\n"
          ]
        }
      ]
    },
    {
      "cell_type": "code",
      "source": [
        "#Exercise 5\n",
        "formatter = \"{}, {}, {}, {} \"\n",
        "print(formatter.format(1, 2, 3, 4))\n",
        "print(formatter.format(True, False, True, False))\n",
        "print(formatter.format(\"My program\", \"I love this program\", \"I love python program\", \"I am a genius\" ))\n"
      ],
      "metadata": {
        "colab": {
          "base_uri": "https://localhost:8080/"
        },
        "id": "4jWPFJ501qMx",
        "outputId": "30fd4dda-a015-4869-d572-4c8be3c6c46a"
      },
      "execution_count": 23,
      "outputs": [
        {
          "output_type": "stream",
          "name": "stdout",
          "text": [
            "1, 2, 3, 4 \n",
            "True, False, True, False \n",
            "My program, I love this program, I love python program, I am a genius \n"
          ]
        }
      ]
    },
    {
      "cell_type": "code",
      "source": [
        "print(formatter)"
      ],
      "metadata": {
        "colab": {
          "base_uri": "https://localhost:8080/"
        },
        "id": "xLDAK43F7Vjn",
        "outputId": "f2b435d4-e9c2-4c78-d3a9-a1f0dfb86b74"
      },
      "execution_count": 24,
      "outputs": [
        {
          "output_type": "stream",
          "name": "stdout",
          "text": [
            "{}, {}, {}, {} \n"
          ]
        }
      ]
    },
    {
      "cell_type": "code",
      "source": [],
      "metadata": {
        "id": "h7aYkzU37Oeu"
      },
      "execution_count": null,
      "outputs": []
    },
    {
      "cell_type": "code",
      "source": [],
      "metadata": {
        "colab": {
          "base_uri": "https://localhost:8080/",
          "height": 165
        },
        "id": "QrYCkqqa6vbX",
        "outputId": "1f14ee52-4f57-4d85-ce2c-7c8a374ffb82"
      },
      "execution_count": 21,
      "outputs": [
        {
          "output_type": "error",
          "ename": "NameError",
          "evalue": "ignored",
          "traceback": [
            "\u001b[0;31m---------------------------------------------------------------------------\u001b[0m",
            "\u001b[0;31mNameError\u001b[0m                                 Traceback (most recent call last)",
            "\u001b[0;32m<ipython-input-21-bde973386a1e>\u001b[0m in \u001b[0;36m<module>\u001b[0;34m\u001b[0m\n\u001b[0;32m----> 1\u001b[0;31m \u001b[0mfomatter\u001b[0m\u001b[0;34m\u001b[0m\u001b[0;34m\u001b[0m\u001b[0m\n\u001b[0m",
            "\u001b[0;31mNameError\u001b[0m: name 'fomatter' is not defined"
          ]
        }
      ]
    },
    {
      "cell_type": "code",
      "source": [],
      "metadata": {
        "id": "KM2Gtu_T7HIu"
      },
      "execution_count": null,
      "outputs": []
    },
    {
      "cell_type": "code",
      "source": [],
      "metadata": {
        "id": "UUzsv2Yb6X6X"
      },
      "execution_count": null,
      "outputs": []
    },
    {
      "cell_type": "code",
      "source": [],
      "metadata": {
        "id": "rxl91sAE5OrB"
      },
      "execution_count": null,
      "outputs": []
    },
    {
      "cell_type": "code",
      "source": [],
      "metadata": {
        "id": "2G65OJ3d1iVS"
      },
      "execution_count": null,
      "outputs": []
    },
    {
      "cell_type": "code",
      "source": [],
      "metadata": {
        "id": "eJ0XFgdD1RNb"
      },
      "execution_count": null,
      "outputs": []
    },
    {
      "cell_type": "code",
      "source": [],
      "metadata": {
        "id": "yQbT77MN1M9s"
      },
      "execution_count": null,
      "outputs": []
    },
    {
      "cell_type": "code",
      "source": [],
      "metadata": {
        "id": "fSWRorcE1HZT"
      },
      "execution_count": null,
      "outputs": []
    },
    {
      "cell_type": "code",
      "source": [],
      "metadata": {
        "id": "EvpRNCgW1FTB"
      },
      "execution_count": null,
      "outputs": []
    },
    {
      "cell_type": "code",
      "source": [],
      "metadata": {
        "id": "mdNlwDkvwMzW"
      },
      "execution_count": null,
      "outputs": []
    },
    {
      "cell_type": "code",
      "source": [],
      "metadata": {
        "id": "XaZPf23suphB"
      },
      "execution_count": null,
      "outputs": []
    },
    {
      "cell_type": "code",
      "source": [],
      "metadata": {
        "id": "P4tauJx5iUGL"
      },
      "execution_count": null,
      "outputs": []
    },
    {
      "cell_type": "code",
      "source": [],
      "metadata": {
        "id": "DgUBfeFseTIk"
      },
      "execution_count": null,
      "outputs": []
    },
    {
      "cell_type": "code",
      "source": [],
      "metadata": {
        "id": "5BGdn0maeN3E"
      },
      "execution_count": null,
      "outputs": []
    },
    {
      "cell_type": "code",
      "source": [],
      "metadata": {
        "id": "gL2k9jGJeKUb"
      },
      "execution_count": null,
      "outputs": []
    },
    {
      "cell_type": "code",
      "source": [],
      "metadata": {
        "id": "03tFGdHZd_pz"
      },
      "execution_count": null,
      "outputs": []
    }
  ]
}